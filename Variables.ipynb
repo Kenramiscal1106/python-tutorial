{
 "cells": [
  {
   "cell_type": "markdown",
   "metadata": {},
   "source": [
    "### Variables: allow developers to reference values in a form of:\n",
    "- string notated with \"\"\n",
    "- integer (example: 12)\n",
    "- list example: \n",
    "`[\"I\", \"am\", \"John\", \"Doe\"]`\n",
    "- dictionary example:\n",
    "```python\n",
    "  {\n",
    "    \"name\":\"Ken\",\n",
    "    \"age\":8\n",
    "  }\n",
    "```"
   ]
  },
  {
   "cell_type": "code",
   "execution_count": 3,
   "metadata": {},
   "outputs": [
    {
     "name": "stdout",
     "output_type": "stream",
     "text": [
      "Ken\n",
      "69420\n",
      "['1, 2, 1 ,43312,3 124, 1, 151,2 51,5 ', 'null', 2]\n",
      "{'name': 'Ken', 'age': 69}\n"
     ]
    }
   ],
   "source": [
    "varString = \"Ken\"\n",
    "# Can be a string\n",
    "varInt = 69420\n",
    "# Can be an integer\n",
    "varList = [ \"1, 2, 1 ,43312,3 124, 1, 151,2 51,5 \", \"null\", 2]\n",
    "# Can be an array/list\n",
    "varDict = {\n",
    "  \"name\":\"Ken\",\n",
    "  \"age\":69\n",
    "}\n",
    "print(varString)\n",
    "print(varInt)\n",
    "print(varList)\n",
    "print(varDict)\n",
    "# accessing Lists\n"
   ]
  },
  {
   "cell_type": "markdown",
   "metadata": {},
   "source": [
    "### How to access items in the list\n",
    "> to access items, we must declare the list variable\n",
    "\n",
    "> Then, use square brackets to define the index of the item\n",
    "\n",
    "> 0 is first, 1 is second, 2 is third, 3 is fourth, and so on...."
   ]
  },
  {
   "cell_type": "code",
   "execution_count": 13,
   "metadata": {},
   "outputs": [
    {
     "name": "stdout",
     "output_type": "stream",
     "text": [
      "2\n",
      "1\n",
      "7\n"
     ]
    }
   ],
   "source": [
    "# How to Accces Lists\n",
    "varList = [ 1, 2, 3, 4, 5, 6, 7, 8, 9, 10]\n",
    "\"\"\"\n",
    "  an item in a list is defined in the index of the variable\n",
    "  example:   [0, 1, 2, 3, 4, 5, 6, 7]\n",
    "  the index:  0, 1, 2, 3, 4, 5, 6, 7\n",
    "\"\"\"\n",
    "print (varList[1]) # returns 2\n",
    "print (varList[0]) # returns 1\n",
    "print (varList[6]) # returns 7"
   ]
  }
 ],
 "metadata": {
  "interpreter": {
   "hash": "9fdf80244c85f69c7541d8e215ecb6a21800af8ccaf9d19c4769f2ff60c918ee"
  },
  "kernelspec": {
   "display_name": "Python 3.8.2 32-bit",
   "language": "python",
   "name": "python3"
  },
  "language_info": {
   "codemirror_mode": {
    "name": "ipython",
    "version": 3
   },
   "file_extension": ".py",
   "mimetype": "text/x-python",
   "name": "python",
   "nbconvert_exporter": "python",
   "pygments_lexer": "ipython3",
   "version": "3.8.2"
  },
  "orig_nbformat": 4
 },
 "nbformat": 4,
 "nbformat_minor": 2
}
