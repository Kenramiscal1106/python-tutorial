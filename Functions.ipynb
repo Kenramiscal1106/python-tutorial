{
 "cells": [
  {
   "cell_type": "markdown",
   "metadata": {},
   "source": [
    "### Function\n",
    "- Allows you to reuse blocks of code for every instance at a time\n",
    "- When a lot of blocks occur every time for every instance, that is the purpose of a function"
   ]
  },
  {
   "cell_type": "code",
   "execution_count": null,
   "metadata": {},
   "outputs": [],
   "source": [
    "def test_function():\n",
    "  print('test')\n",
    "\n",
    "test_function()"
   ]
  },
  {
   "cell_type": "markdown",
   "metadata": {},
   "source": [
    "#### Arguments vs parameters\n",
    "- Parameters are the variables that you access in the parenthesis of the function\n",
    "- when you call the function and that function has parameters, you have to put some argument (an instance of that parameter)"
   ]
  },
  {
   "cell_type": "code",
   "execution_count": 6,
   "metadata": {},
   "outputs": [
    {
     "name": "stdout",
     "output_type": "stream",
     "text": [
      "Hello, world\n",
      "Diferent argument now huh\n"
     ]
    }
   ],
   "source": [
    "def parameter_function(parameter1):\n",
    "  print(parameter1) # do anything with the function\n",
    "\n",
    "# Argument in the function\n",
    "parameter_function('Hello, world')\n",
    "# another different...... argument\n",
    "parameter_function('Diferent argument now huh')"
   ]
  }
 ],
 "metadata": {
  "interpreter": {
   "hash": "9fdf80244c85f69c7541d8e215ecb6a21800af8ccaf9d19c4769f2ff60c918ee"
  },
  "kernelspec": {
   "display_name": "Python 3.8.2 32-bit",
   "language": "python",
   "name": "python3"
  },
  "language_info": {
   "codemirror_mode": {
    "name": "ipython",
    "version": 3
   },
   "file_extension": ".py",
   "mimetype": "text/x-python",
   "name": "python",
   "nbconvert_exporter": "python",
   "pygments_lexer": "ipython3",
   "version": "3.8.2"
  },
  "orig_nbformat": 4
 },
 "nbformat": 4,
 "nbformat_minor": 2
}
